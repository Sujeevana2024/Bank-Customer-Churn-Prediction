{
 "cells": [
  {
   "cell_type": "markdown",
   "id": "b5f9be22-569a-4366-a39c-1966ba584377",
   "metadata": {},
   "source": [
    "# Project Name: \"Customer Churn Prediction for Banking\""
   ]
  },
  {
   "cell_type": "markdown",
   "id": "b9fd8d94-5c3f-4ece-a490-9ffa5bf1bf2b",
   "metadata": {},
   "source": [
    "## Objective:\n",
    "The primary objective of this project is to predict the likelihood of a customer leaving the bank (churn) by applying machine learning models to the provided dataset. By accurately predicting the Exited column, the bank can proactively identify customers who are at high risk of churn and take targeted actions to retain them."
   ]
  },
  {
   "cell_type": "markdown",
   "id": "bf8e93e4-0b76-4643-b322-911f04ff2bb5",
   "metadata": {},
   "source": [
    "## Why Should We Do This Project?\n",
    "Customer retention is critical for the financial success of banks because acquiring new customers is often more expensive than retaining existing ones. By understanding the factors that contribute to churn, banks can:\n",
    "\n",
    "### Enhance Customer Retention:\n",
    "Identify high-risk customers and implement personalized strategies to prevent them from leaving.\n",
    "\n",
    "### Reduce Revenue Loss:\n",
    "Retaining customers helps maintain stable revenue streams and reduces the costs associated with onboarding new customers.\n",
    "\n",
    "### Optimize Resource Allocation:\n",
    "Focus marketing and customer support efforts on high-risk customers, rather than applying blanket strategies across all customers.\n",
    "\n",
    "### Improve Customer Experience:\n",
    "Understand customer pain points (e.g., dissatisfaction with services or lack of engagement) and address them proactively.\n",
    "\n",
    "### Gain Competitive Advantage:\n",
    "A predictive churn model can help banks stay ahead of competitors by ensuring a loyal customer base."
   ]
  },
  {
   "cell_type": "markdown",
   "id": "bab7b738-4420-43b5-a6f7-d493eb5fa560",
   "metadata": {},
   "source": [
    "### Importing necessary libraries"
   ]
  },
  {
   "cell_type": "code",
   "execution_count": 67,
   "id": "b7bbea09-a97d-4c97-b4d1-09f005254092",
   "metadata": {},
   "outputs": [],
   "source": [
    "import pandas as pd\n",
    "import numpy as np\n",
    "import matplotlib.pyplot as plt\n",
    "import seaborn as sns\n",
    "import warnings\n",
    "warnings.filterwarnings('ignore')"
   ]
  },
  {
   "cell_type": "code",
   "execution_count": 68,
   "id": "9d80eecf-836a-4069-896c-d768f99da123",
   "metadata": {},
   "outputs": [],
   "source": [
    "df = pd.read_csv('Churn_Modelling.csv')"
   ]
  },
  {
   "cell_type": "markdown",
   "id": "93aedaf4-50cd-4a7b-b3fe-c2c5eab0053e",
   "metadata": {},
   "source": [
    "### Display Top 5 Rows of Dataset"
   ]
  },
  {
   "cell_type": "code",
   "execution_count": 70,
   "id": "c7958b22-0b82-47f1-832f-7ab6969c6598",
   "metadata": {},
   "outputs": [
    {
     "data": {
      "text/html": [
       "<div>\n",
       "<style scoped>\n",
       "    .dataframe tbody tr th:only-of-type {\n",
       "        vertical-align: middle;\n",
       "    }\n",
       "\n",
       "    .dataframe tbody tr th {\n",
       "        vertical-align: top;\n",
       "    }\n",
       "\n",
       "    .dataframe thead th {\n",
       "        text-align: right;\n",
       "    }\n",
       "</style>\n",
       "<table border=\"1\" class=\"dataframe\">\n",
       "  <thead>\n",
       "    <tr style=\"text-align: right;\">\n",
       "      <th></th>\n",
       "      <th>RowNumber</th>\n",
       "      <th>CustomerId</th>\n",
       "      <th>Surname</th>\n",
       "      <th>CreditScore</th>\n",
       "      <th>Geography</th>\n",
       "      <th>Gender</th>\n",
       "      <th>Age</th>\n",
       "      <th>Tenure</th>\n",
       "      <th>Balance</th>\n",
       "      <th>NumOfProducts</th>\n",
       "      <th>HasCrCard</th>\n",
       "      <th>IsActiveMember</th>\n",
       "      <th>EstimatedSalary</th>\n",
       "      <th>Exited</th>\n",
       "    </tr>\n",
       "  </thead>\n",
       "  <tbody>\n",
       "    <tr>\n",
       "      <th>0</th>\n",
       "      <td>1</td>\n",
       "      <td>15634602</td>\n",
       "      <td>Hargrave</td>\n",
       "      <td>619</td>\n",
       "      <td>France</td>\n",
       "      <td>Female</td>\n",
       "      <td>42</td>\n",
       "      <td>2</td>\n",
       "      <td>0.00</td>\n",
       "      <td>1</td>\n",
       "      <td>1</td>\n",
       "      <td>1</td>\n",
       "      <td>101348.88</td>\n",
       "      <td>1</td>\n",
       "    </tr>\n",
       "    <tr>\n",
       "      <th>1</th>\n",
       "      <td>2</td>\n",
       "      <td>15647311</td>\n",
       "      <td>Hill</td>\n",
       "      <td>608</td>\n",
       "      <td>Spain</td>\n",
       "      <td>Female</td>\n",
       "      <td>41</td>\n",
       "      <td>1</td>\n",
       "      <td>83807.86</td>\n",
       "      <td>1</td>\n",
       "      <td>0</td>\n",
       "      <td>1</td>\n",
       "      <td>112542.58</td>\n",
       "      <td>0</td>\n",
       "    </tr>\n",
       "    <tr>\n",
       "      <th>2</th>\n",
       "      <td>3</td>\n",
       "      <td>15619304</td>\n",
       "      <td>Onio</td>\n",
       "      <td>502</td>\n",
       "      <td>France</td>\n",
       "      <td>Female</td>\n",
       "      <td>42</td>\n",
       "      <td>8</td>\n",
       "      <td>159660.80</td>\n",
       "      <td>3</td>\n",
       "      <td>1</td>\n",
       "      <td>0</td>\n",
       "      <td>113931.57</td>\n",
       "      <td>1</td>\n",
       "    </tr>\n",
       "    <tr>\n",
       "      <th>3</th>\n",
       "      <td>4</td>\n",
       "      <td>15701354</td>\n",
       "      <td>Boni</td>\n",
       "      <td>699</td>\n",
       "      <td>France</td>\n",
       "      <td>Female</td>\n",
       "      <td>39</td>\n",
       "      <td>1</td>\n",
       "      <td>0.00</td>\n",
       "      <td>2</td>\n",
       "      <td>0</td>\n",
       "      <td>0</td>\n",
       "      <td>93826.63</td>\n",
       "      <td>0</td>\n",
       "    </tr>\n",
       "    <tr>\n",
       "      <th>4</th>\n",
       "      <td>5</td>\n",
       "      <td>15737888</td>\n",
       "      <td>Mitchell</td>\n",
       "      <td>850</td>\n",
       "      <td>Spain</td>\n",
       "      <td>Female</td>\n",
       "      <td>43</td>\n",
       "      <td>2</td>\n",
       "      <td>125510.82</td>\n",
       "      <td>1</td>\n",
       "      <td>1</td>\n",
       "      <td>1</td>\n",
       "      <td>79084.10</td>\n",
       "      <td>0</td>\n",
       "    </tr>\n",
       "  </tbody>\n",
       "</table>\n",
       "</div>"
      ],
      "text/plain": [
       "   RowNumber  CustomerId   Surname  CreditScore Geography  Gender  Age  \\\n",
       "0          1    15634602  Hargrave          619    France  Female   42   \n",
       "1          2    15647311      Hill          608     Spain  Female   41   \n",
       "2          3    15619304      Onio          502    France  Female   42   \n",
       "3          4    15701354      Boni          699    France  Female   39   \n",
       "4          5    15737888  Mitchell          850     Spain  Female   43   \n",
       "\n",
       "   Tenure    Balance  NumOfProducts  HasCrCard  IsActiveMember  \\\n",
       "0       2       0.00              1          1               1   \n",
       "1       1   83807.86              1          0               1   \n",
       "2       8  159660.80              3          1               0   \n",
       "3       1       0.00              2          0               0   \n",
       "4       2  125510.82              1          1               1   \n",
       "\n",
       "   EstimatedSalary  Exited  \n",
       "0        101348.88       1  \n",
       "1        112542.58       0  \n",
       "2        113931.57       1  \n",
       "3         93826.63       0  \n",
       "4         79084.10       0  "
      ]
     },
     "execution_count": 70,
     "metadata": {},
     "output_type": "execute_result"
    }
   ],
   "source": [
    "df.head()"
   ]
  },
  {
   "cell_type": "markdown",
   "id": "286af36c-e29b-40d9-a71e-0f138b819d57",
   "metadata": {},
   "source": [
    "### Display Bottom 5 Rows of Dataset"
   ]
  },
  {
   "cell_type": "code",
   "execution_count": 72,
   "id": "6871a989-4226-4570-b31e-9d501e938ec3",
   "metadata": {},
   "outputs": [
    {
     "data": {
      "text/html": [
       "<div>\n",
       "<style scoped>\n",
       "    .dataframe tbody tr th:only-of-type {\n",
       "        vertical-align: middle;\n",
       "    }\n",
       "\n",
       "    .dataframe tbody tr th {\n",
       "        vertical-align: top;\n",
       "    }\n",
       "\n",
       "    .dataframe thead th {\n",
       "        text-align: right;\n",
       "    }\n",
       "</style>\n",
       "<table border=\"1\" class=\"dataframe\">\n",
       "  <thead>\n",
       "    <tr style=\"text-align: right;\">\n",
       "      <th></th>\n",
       "      <th>RowNumber</th>\n",
       "      <th>CustomerId</th>\n",
       "      <th>Surname</th>\n",
       "      <th>CreditScore</th>\n",
       "      <th>Geography</th>\n",
       "      <th>Gender</th>\n",
       "      <th>Age</th>\n",
       "      <th>Tenure</th>\n",
       "      <th>Balance</th>\n",
       "      <th>NumOfProducts</th>\n",
       "      <th>HasCrCard</th>\n",
       "      <th>IsActiveMember</th>\n",
       "      <th>EstimatedSalary</th>\n",
       "      <th>Exited</th>\n",
       "    </tr>\n",
       "  </thead>\n",
       "  <tbody>\n",
       "    <tr>\n",
       "      <th>9995</th>\n",
       "      <td>9996</td>\n",
       "      <td>15606229</td>\n",
       "      <td>Obijiaku</td>\n",
       "      <td>771</td>\n",
       "      <td>France</td>\n",
       "      <td>Male</td>\n",
       "      <td>39</td>\n",
       "      <td>5</td>\n",
       "      <td>0.00</td>\n",
       "      <td>2</td>\n",
       "      <td>1</td>\n",
       "      <td>0</td>\n",
       "      <td>96270.64</td>\n",
       "      <td>0</td>\n",
       "    </tr>\n",
       "    <tr>\n",
       "      <th>9996</th>\n",
       "      <td>9997</td>\n",
       "      <td>15569892</td>\n",
       "      <td>Johnstone</td>\n",
       "      <td>516</td>\n",
       "      <td>France</td>\n",
       "      <td>Male</td>\n",
       "      <td>35</td>\n",
       "      <td>10</td>\n",
       "      <td>57369.61</td>\n",
       "      <td>1</td>\n",
       "      <td>1</td>\n",
       "      <td>1</td>\n",
       "      <td>101699.77</td>\n",
       "      <td>0</td>\n",
       "    </tr>\n",
       "    <tr>\n",
       "      <th>9997</th>\n",
       "      <td>9998</td>\n",
       "      <td>15584532</td>\n",
       "      <td>Liu</td>\n",
       "      <td>709</td>\n",
       "      <td>France</td>\n",
       "      <td>Female</td>\n",
       "      <td>36</td>\n",
       "      <td>7</td>\n",
       "      <td>0.00</td>\n",
       "      <td>1</td>\n",
       "      <td>0</td>\n",
       "      <td>1</td>\n",
       "      <td>42085.58</td>\n",
       "      <td>1</td>\n",
       "    </tr>\n",
       "    <tr>\n",
       "      <th>9998</th>\n",
       "      <td>9999</td>\n",
       "      <td>15682355</td>\n",
       "      <td>Sabbatini</td>\n",
       "      <td>772</td>\n",
       "      <td>Germany</td>\n",
       "      <td>Male</td>\n",
       "      <td>42</td>\n",
       "      <td>3</td>\n",
       "      <td>75075.31</td>\n",
       "      <td>2</td>\n",
       "      <td>1</td>\n",
       "      <td>0</td>\n",
       "      <td>92888.52</td>\n",
       "      <td>1</td>\n",
       "    </tr>\n",
       "    <tr>\n",
       "      <th>9999</th>\n",
       "      <td>10000</td>\n",
       "      <td>15628319</td>\n",
       "      <td>Walker</td>\n",
       "      <td>792</td>\n",
       "      <td>France</td>\n",
       "      <td>Female</td>\n",
       "      <td>28</td>\n",
       "      <td>4</td>\n",
       "      <td>130142.79</td>\n",
       "      <td>1</td>\n",
       "      <td>1</td>\n",
       "      <td>0</td>\n",
       "      <td>38190.78</td>\n",
       "      <td>0</td>\n",
       "    </tr>\n",
       "  </tbody>\n",
       "</table>\n",
       "</div>"
      ],
      "text/plain": [
       "      RowNumber  CustomerId    Surname  CreditScore Geography  Gender  Age  \\\n",
       "9995       9996    15606229   Obijiaku          771    France    Male   39   \n",
       "9996       9997    15569892  Johnstone          516    France    Male   35   \n",
       "9997       9998    15584532        Liu          709    France  Female   36   \n",
       "9998       9999    15682355  Sabbatini          772   Germany    Male   42   \n",
       "9999      10000    15628319     Walker          792    France  Female   28   \n",
       "\n",
       "      Tenure    Balance  NumOfProducts  HasCrCard  IsActiveMember  \\\n",
       "9995       5       0.00              2          1               0   \n",
       "9996      10   57369.61              1          1               1   \n",
       "9997       7       0.00              1          0               1   \n",
       "9998       3   75075.31              2          1               0   \n",
       "9999       4  130142.79              1          1               0   \n",
       "\n",
       "      EstimatedSalary  Exited  \n",
       "9995         96270.64       0  \n",
       "9996        101699.77       0  \n",
       "9997         42085.58       1  \n",
       "9998         92888.52       1  \n",
       "9999         38190.78       0  "
      ]
     },
     "execution_count": 72,
     "metadata": {},
     "output_type": "execute_result"
    }
   ],
   "source": [
    "df.tail()"
   ]
  },
  {
   "cell_type": "code",
   "execution_count": 73,
   "id": "c5a47dfc-5181-434b-98c6-469441f67662",
   "metadata": {},
   "outputs": [
    {
     "name": "stdout",
     "output_type": "stream",
     "text": [
      " 1 ----> Customer Left The Bank\n",
      " 0 ----> Customer Didn't Left the Bank\n"
     ]
    }
   ],
   "source": [
    "print(f\" 1 ----> Customer Left The Bank\")\n",
    "print(f\" 0 ----> Customer Didn't Left the Bank\")"
   ]
  },
  {
   "cell_type": "markdown",
   "id": "9068c4b8-0278-4668-8ae5-6cde50de02e1",
   "metadata": {},
   "source": [
    "### Find Shape of Our Dataset (Number of Columns and Rows)"
   ]
  },
  {
   "cell_type": "code",
   "execution_count": 75,
   "id": "93414e7a-b8bd-4cb6-94e4-a461f7fe2de4",
   "metadata": {},
   "outputs": [
    {
     "name": "stdout",
     "output_type": "stream",
     "text": [
      " Number of Rows in the data : 10000\n",
      " Number of Columns in the data : 14\n"
     ]
    }
   ],
   "source": [
    "print(f\" Number of Rows in the data : {df.shape[0]}\")\n",
    "print(f\" Number of Columns in the data : {df.shape[1]}\")"
   ]
  },
  {
   "cell_type": "markdown",
   "id": "f29b6b51-8649-4613-b564-3cec70e706ec",
   "metadata": {},
   "source": [
    "### Get Information about data Like Total Number of Rows,Total Number of Columns,Datatype of Each Feature and Memory Requirement"
   ]
  },
  {
   "cell_type": "code",
   "execution_count": 77,
   "id": "6f6c3361-9bdf-4d88-95e9-1a8e688dbb5c",
   "metadata": {},
   "outputs": [
    {
     "name": "stdout",
     "output_type": "stream",
     "text": [
      "<class 'pandas.core.frame.DataFrame'>\n",
      "RangeIndex: 10000 entries, 0 to 9999\n",
      "Data columns (total 14 columns):\n",
      " #   Column           Non-Null Count  Dtype  \n",
      "---  ------           --------------  -----  \n",
      " 0   RowNumber        10000 non-null  int64  \n",
      " 1   CustomerId       10000 non-null  int64  \n",
      " 2   Surname          10000 non-null  object \n",
      " 3   CreditScore      10000 non-null  int64  \n",
      " 4   Geography        10000 non-null  object \n",
      " 5   Gender           10000 non-null  object \n",
      " 6   Age              10000 non-null  int64  \n",
      " 7   Tenure           10000 non-null  int64  \n",
      " 8   Balance          10000 non-null  float64\n",
      " 9   NumOfProducts    10000 non-null  int64  \n",
      " 10  HasCrCard        10000 non-null  int64  \n",
      " 11  IsActiveMember   10000 non-null  int64  \n",
      " 12  EstimatedSalary  10000 non-null  float64\n",
      " 13  Exited           10000 non-null  int64  \n",
      "dtypes: float64(2), int64(9), object(3)\n",
      "memory usage: 1.1+ MB\n"
     ]
    }
   ],
   "source": [
    "df.info()"
   ]
  },
  {
   "cell_type": "markdown",
   "id": "2894aa29-4ea0-40e5-a979-03fbe2788571",
   "metadata": {},
   "source": [
    "### Check Null Values in the Dataset"
   ]
  },
  {
   "cell_type": "code",
   "execution_count": 79,
   "id": "c3c422d6-fbab-436f-b783-aec82a3fcc47",
   "metadata": {},
   "outputs": [
    {
     "data": {
      "text/plain": [
       "RowNumber          0\n",
       "CustomerId         0\n",
       "Surname            0\n",
       "CreditScore        0\n",
       "Geography          0\n",
       "Gender             0\n",
       "Age                0\n",
       "Tenure             0\n",
       "Balance            0\n",
       "NumOfProducts      0\n",
       "HasCrCard          0\n",
       "IsActiveMember     0\n",
       "EstimatedSalary    0\n",
       "Exited             0\n",
       "dtype: int64"
      ]
     },
     "execution_count": 79,
     "metadata": {},
     "output_type": "execute_result"
    }
   ],
   "source": [
    "df.isna().sum()"
   ]
  },
  {
   "cell_type": "markdown",
   "id": "f3b2d491-3406-4097-aa95-edf0d4719a72",
   "metadata": {},
   "source": [
    "### Get Overall Statistics About the Dataset"
   ]
  },
  {
   "cell_type": "code",
   "execution_count": 81,
   "id": "2b46a72e-7ead-4776-9507-4cf0e2e081b3",
   "metadata": {},
   "outputs": [
    {
     "data": {
      "text/html": [
       "<div>\n",
       "<style scoped>\n",
       "    .dataframe tbody tr th:only-of-type {\n",
       "        vertical-align: middle;\n",
       "    }\n",
       "\n",
       "    .dataframe tbody tr th {\n",
       "        vertical-align: top;\n",
       "    }\n",
       "\n",
       "    .dataframe thead th {\n",
       "        text-align: right;\n",
       "    }\n",
       "</style>\n",
       "<table border=\"1\" class=\"dataframe\">\n",
       "  <thead>\n",
       "    <tr style=\"text-align: right;\">\n",
       "      <th></th>\n",
       "      <th>RowNumber</th>\n",
       "      <th>CustomerId</th>\n",
       "      <th>CreditScore</th>\n",
       "      <th>Age</th>\n",
       "      <th>Tenure</th>\n",
       "      <th>Balance</th>\n",
       "      <th>NumOfProducts</th>\n",
       "      <th>HasCrCard</th>\n",
       "      <th>IsActiveMember</th>\n",
       "      <th>EstimatedSalary</th>\n",
       "      <th>Exited</th>\n",
       "    </tr>\n",
       "  </thead>\n",
       "  <tbody>\n",
       "    <tr>\n",
       "      <th>count</th>\n",
       "      <td>10000.00000</td>\n",
       "      <td>1.000000e+04</td>\n",
       "      <td>10000.000000</td>\n",
       "      <td>10000.000000</td>\n",
       "      <td>10000.000000</td>\n",
       "      <td>10000.000000</td>\n",
       "      <td>10000.000000</td>\n",
       "      <td>10000.00000</td>\n",
       "      <td>10000.000000</td>\n",
       "      <td>10000.000000</td>\n",
       "      <td>10000.000000</td>\n",
       "    </tr>\n",
       "    <tr>\n",
       "      <th>mean</th>\n",
       "      <td>5000.50000</td>\n",
       "      <td>1.569094e+07</td>\n",
       "      <td>650.528800</td>\n",
       "      <td>38.921800</td>\n",
       "      <td>5.012800</td>\n",
       "      <td>76485.889288</td>\n",
       "      <td>1.530200</td>\n",
       "      <td>0.70550</td>\n",
       "      <td>0.515100</td>\n",
       "      <td>100090.239881</td>\n",
       "      <td>0.203700</td>\n",
       "    </tr>\n",
       "    <tr>\n",
       "      <th>std</th>\n",
       "      <td>2886.89568</td>\n",
       "      <td>7.193619e+04</td>\n",
       "      <td>96.653299</td>\n",
       "      <td>10.487806</td>\n",
       "      <td>2.892174</td>\n",
       "      <td>62397.405202</td>\n",
       "      <td>0.581654</td>\n",
       "      <td>0.45584</td>\n",
       "      <td>0.499797</td>\n",
       "      <td>57510.492818</td>\n",
       "      <td>0.402769</td>\n",
       "    </tr>\n",
       "    <tr>\n",
       "      <th>min</th>\n",
       "      <td>1.00000</td>\n",
       "      <td>1.556570e+07</td>\n",
       "      <td>350.000000</td>\n",
       "      <td>18.000000</td>\n",
       "      <td>0.000000</td>\n",
       "      <td>0.000000</td>\n",
       "      <td>1.000000</td>\n",
       "      <td>0.00000</td>\n",
       "      <td>0.000000</td>\n",
       "      <td>11.580000</td>\n",
       "      <td>0.000000</td>\n",
       "    </tr>\n",
       "    <tr>\n",
       "      <th>25%</th>\n",
       "      <td>2500.75000</td>\n",
       "      <td>1.562853e+07</td>\n",
       "      <td>584.000000</td>\n",
       "      <td>32.000000</td>\n",
       "      <td>3.000000</td>\n",
       "      <td>0.000000</td>\n",
       "      <td>1.000000</td>\n",
       "      <td>0.00000</td>\n",
       "      <td>0.000000</td>\n",
       "      <td>51002.110000</td>\n",
       "      <td>0.000000</td>\n",
       "    </tr>\n",
       "    <tr>\n",
       "      <th>50%</th>\n",
       "      <td>5000.50000</td>\n",
       "      <td>1.569074e+07</td>\n",
       "      <td>652.000000</td>\n",
       "      <td>37.000000</td>\n",
       "      <td>5.000000</td>\n",
       "      <td>97198.540000</td>\n",
       "      <td>1.000000</td>\n",
       "      <td>1.00000</td>\n",
       "      <td>1.000000</td>\n",
       "      <td>100193.915000</td>\n",
       "      <td>0.000000</td>\n",
       "    </tr>\n",
       "    <tr>\n",
       "      <th>75%</th>\n",
       "      <td>7500.25000</td>\n",
       "      <td>1.575323e+07</td>\n",
       "      <td>718.000000</td>\n",
       "      <td>44.000000</td>\n",
       "      <td>7.000000</td>\n",
       "      <td>127644.240000</td>\n",
       "      <td>2.000000</td>\n",
       "      <td>1.00000</td>\n",
       "      <td>1.000000</td>\n",
       "      <td>149388.247500</td>\n",
       "      <td>0.000000</td>\n",
       "    </tr>\n",
       "    <tr>\n",
       "      <th>max</th>\n",
       "      <td>10000.00000</td>\n",
       "      <td>1.581569e+07</td>\n",
       "      <td>850.000000</td>\n",
       "      <td>92.000000</td>\n",
       "      <td>10.000000</td>\n",
       "      <td>250898.090000</td>\n",
       "      <td>4.000000</td>\n",
       "      <td>1.00000</td>\n",
       "      <td>1.000000</td>\n",
       "      <td>199992.480000</td>\n",
       "      <td>1.000000</td>\n",
       "    </tr>\n",
       "  </tbody>\n",
       "</table>\n",
       "</div>"
      ],
      "text/plain": [
       "         RowNumber    CustomerId   CreditScore           Age        Tenure  \\\n",
       "count  10000.00000  1.000000e+04  10000.000000  10000.000000  10000.000000   \n",
       "mean    5000.50000  1.569094e+07    650.528800     38.921800      5.012800   \n",
       "std     2886.89568  7.193619e+04     96.653299     10.487806      2.892174   \n",
       "min        1.00000  1.556570e+07    350.000000     18.000000      0.000000   \n",
       "25%     2500.75000  1.562853e+07    584.000000     32.000000      3.000000   \n",
       "50%     5000.50000  1.569074e+07    652.000000     37.000000      5.000000   \n",
       "75%     7500.25000  1.575323e+07    718.000000     44.000000      7.000000   \n",
       "max    10000.00000  1.581569e+07    850.000000     92.000000     10.000000   \n",
       "\n",
       "             Balance  NumOfProducts    HasCrCard  IsActiveMember  \\\n",
       "count   10000.000000   10000.000000  10000.00000    10000.000000   \n",
       "mean    76485.889288       1.530200      0.70550        0.515100   \n",
       "std     62397.405202       0.581654      0.45584        0.499797   \n",
       "min         0.000000       1.000000      0.00000        0.000000   \n",
       "25%         0.000000       1.000000      0.00000        0.000000   \n",
       "50%     97198.540000       1.000000      1.00000        1.000000   \n",
       "75%    127644.240000       2.000000      1.00000        1.000000   \n",
       "max    250898.090000       4.000000      1.00000        1.000000   \n",
       "\n",
       "       EstimatedSalary        Exited  \n",
       "count     10000.000000  10000.000000  \n",
       "mean     100090.239881      0.203700  \n",
       "std       57510.492818      0.402769  \n",
       "min          11.580000      0.000000  \n",
       "25%       51002.110000      0.000000  \n",
       "50%      100193.915000      0.000000  \n",
       "75%      149388.247500      0.000000  \n",
       "max      199992.480000      1.000000  "
      ]
     },
     "execution_count": 81,
     "metadata": {},
     "output_type": "execute_result"
    }
   ],
   "source": [
    "df.describe()\n",
    "## This Statistics is only for Numerical Features"
   ]
  },
  {
   "cell_type": "code",
   "execution_count": 82,
   "id": "99c2f836-ffc0-4916-ab72-33c703962789",
   "metadata": {},
   "outputs": [
    {
     "data": {
      "text/html": [
       "<div>\n",
       "<style scoped>\n",
       "    .dataframe tbody tr th:only-of-type {\n",
       "        vertical-align: middle;\n",
       "    }\n",
       "\n",
       "    .dataframe tbody tr th {\n",
       "        vertical-align: top;\n",
       "    }\n",
       "\n",
       "    .dataframe thead th {\n",
       "        text-align: right;\n",
       "    }\n",
       "</style>\n",
       "<table border=\"1\" class=\"dataframe\">\n",
       "  <thead>\n",
       "    <tr style=\"text-align: right;\">\n",
       "      <th></th>\n",
       "      <th>Surname</th>\n",
       "      <th>Geography</th>\n",
       "      <th>Gender</th>\n",
       "    </tr>\n",
       "  </thead>\n",
       "  <tbody>\n",
       "    <tr>\n",
       "      <th>count</th>\n",
       "      <td>10000</td>\n",
       "      <td>10000</td>\n",
       "      <td>10000</td>\n",
       "    </tr>\n",
       "    <tr>\n",
       "      <th>unique</th>\n",
       "      <td>2932</td>\n",
       "      <td>3</td>\n",
       "      <td>2</td>\n",
       "    </tr>\n",
       "    <tr>\n",
       "      <th>top</th>\n",
       "      <td>Smith</td>\n",
       "      <td>France</td>\n",
       "      <td>Male</td>\n",
       "    </tr>\n",
       "    <tr>\n",
       "      <th>freq</th>\n",
       "      <td>32</td>\n",
       "      <td>5014</td>\n",
       "      <td>5457</td>\n",
       "    </tr>\n",
       "  </tbody>\n",
       "</table>\n",
       "</div>"
      ],
      "text/plain": [
       "       Surname Geography Gender\n",
       "count    10000     10000  10000\n",
       "unique    2932         3      2\n",
       "top      Smith    France   Male\n",
       "freq        32      5014   5457"
      ]
     },
     "execution_count": 82,
     "metadata": {},
     "output_type": "execute_result"
    }
   ],
   "source": [
    "df.describe(include = 'object')"
   ]
  },
  {
   "cell_type": "markdown",
   "id": "37b4bd60-ce57-46cb-8eaf-15be76a79c4a",
   "metadata": {},
   "source": [
    "### Dropping Irrelevant Features"
   ]
  },
  {
   "cell_type": "code",
   "execution_count": 84,
   "id": "55f3f632-37ce-4502-bf83-9954a2de4de0",
   "metadata": {},
   "outputs": [
    {
     "data": {
      "text/plain": [
       "Index(['RowNumber', 'CustomerId', 'Surname', 'CreditScore', 'Geography',\n",
       "       'Gender', 'Age', 'Tenure', 'Balance', 'NumOfProducts', 'HasCrCard',\n",
       "       'IsActiveMember', 'EstimatedSalary', 'Exited'],\n",
       "      dtype='object')"
      ]
     },
     "execution_count": 84,
     "metadata": {},
     "output_type": "execute_result"
    }
   ],
   "source": [
    "df.columns"
   ]
  },
  {
   "cell_type": "code",
   "execution_count": 85,
   "id": "8176049e-ed1b-46e1-bc29-f5cf9010bbbc",
   "metadata": {},
   "outputs": [],
   "source": [
    "df=df.drop(['RowNumber', 'CustomerId', 'Surname'],axis=1)"
   ]
  },
  {
   "cell_type": "code",
   "execution_count": 86,
   "id": "347c9146-f869-4b9b-a231-af6781aa3979",
   "metadata": {},
   "outputs": [
    {
     "data": {
      "text/html": [
       "<div>\n",
       "<style scoped>\n",
       "    .dataframe tbody tr th:only-of-type {\n",
       "        vertical-align: middle;\n",
       "    }\n",
       "\n",
       "    .dataframe tbody tr th {\n",
       "        vertical-align: top;\n",
       "    }\n",
       "\n",
       "    .dataframe thead th {\n",
       "        text-align: right;\n",
       "    }\n",
       "</style>\n",
       "<table border=\"1\" class=\"dataframe\">\n",
       "  <thead>\n",
       "    <tr style=\"text-align: right;\">\n",
       "      <th></th>\n",
       "      <th>CreditScore</th>\n",
       "      <th>Geography</th>\n",
       "      <th>Gender</th>\n",
       "      <th>Age</th>\n",
       "      <th>Tenure</th>\n",
       "      <th>Balance</th>\n",
       "      <th>NumOfProducts</th>\n",
       "      <th>HasCrCard</th>\n",
       "      <th>IsActiveMember</th>\n",
       "      <th>EstimatedSalary</th>\n",
       "      <th>Exited</th>\n",
       "    </tr>\n",
       "  </thead>\n",
       "  <tbody>\n",
       "    <tr>\n",
       "      <th>0</th>\n",
       "      <td>619</td>\n",
       "      <td>France</td>\n",
       "      <td>Female</td>\n",
       "      <td>42</td>\n",
       "      <td>2</td>\n",
       "      <td>0.00</td>\n",
       "      <td>1</td>\n",
       "      <td>1</td>\n",
       "      <td>1</td>\n",
       "      <td>101348.88</td>\n",
       "      <td>1</td>\n",
       "    </tr>\n",
       "    <tr>\n",
       "      <th>1</th>\n",
       "      <td>608</td>\n",
       "      <td>Spain</td>\n",
       "      <td>Female</td>\n",
       "      <td>41</td>\n",
       "      <td>1</td>\n",
       "      <td>83807.86</td>\n",
       "      <td>1</td>\n",
       "      <td>0</td>\n",
       "      <td>1</td>\n",
       "      <td>112542.58</td>\n",
       "      <td>0</td>\n",
       "    </tr>\n",
       "    <tr>\n",
       "      <th>2</th>\n",
       "      <td>502</td>\n",
       "      <td>France</td>\n",
       "      <td>Female</td>\n",
       "      <td>42</td>\n",
       "      <td>8</td>\n",
       "      <td>159660.80</td>\n",
       "      <td>3</td>\n",
       "      <td>1</td>\n",
       "      <td>0</td>\n",
       "      <td>113931.57</td>\n",
       "      <td>1</td>\n",
       "    </tr>\n",
       "    <tr>\n",
       "      <th>3</th>\n",
       "      <td>699</td>\n",
       "      <td>France</td>\n",
       "      <td>Female</td>\n",
       "      <td>39</td>\n",
       "      <td>1</td>\n",
       "      <td>0.00</td>\n",
       "      <td>2</td>\n",
       "      <td>0</td>\n",
       "      <td>0</td>\n",
       "      <td>93826.63</td>\n",
       "      <td>0</td>\n",
       "    </tr>\n",
       "    <tr>\n",
       "      <th>4</th>\n",
       "      <td>850</td>\n",
       "      <td>Spain</td>\n",
       "      <td>Female</td>\n",
       "      <td>43</td>\n",
       "      <td>2</td>\n",
       "      <td>125510.82</td>\n",
       "      <td>1</td>\n",
       "      <td>1</td>\n",
       "      <td>1</td>\n",
       "      <td>79084.10</td>\n",
       "      <td>0</td>\n",
       "    </tr>\n",
       "  </tbody>\n",
       "</table>\n",
       "</div>"
      ],
      "text/plain": [
       "   CreditScore Geography  Gender  Age  Tenure    Balance  NumOfProducts  \\\n",
       "0          619    France  Female   42       2       0.00              1   \n",
       "1          608     Spain  Female   41       1   83807.86              1   \n",
       "2          502    France  Female   42       8  159660.80              3   \n",
       "3          699    France  Female   39       1       0.00              2   \n",
       "4          850     Spain  Female   43       2  125510.82              1   \n",
       "\n",
       "   HasCrCard  IsActiveMember  EstimatedSalary  Exited  \n",
       "0          1               1        101348.88       1  \n",
       "1          0               1        112542.58       0  \n",
       "2          1               0        113931.57       1  \n",
       "3          0               0         93826.63       0  \n",
       "4          1               1         79084.10       0  "
      ]
     },
     "execution_count": 86,
     "metadata": {},
     "output_type": "execute_result"
    }
   ],
   "source": [
    "df.head()"
   ]
  },
  {
   "cell_type": "markdown",
   "id": "456d3da5-140b-4600-9ac4-83425138a87c",
   "metadata": {},
   "source": [
    "### Encoding Categorical Features"
   ]
  },
  {
   "cell_type": "code",
   "execution_count": 88,
   "id": "45be8f25-af3a-47ba-b0af-fadcd9e8719b",
   "metadata": {},
   "outputs": [],
   "source": [
    "df = pd.get_dummies(df,drop_first=True).astype('int')\n",
    "## Drop_First=True is done to reduce one column for each of the feature so, that Multi-Coliinearity is avoided"
   ]
  },
  {
   "cell_type": "code",
   "execution_count": 89,
   "id": "84c05db6-e51d-4aa0-924e-eb86528ac993",
   "metadata": {},
   "outputs": [
    {
     "data": {
      "text/html": [
       "<div>\n",
       "<style scoped>\n",
       "    .dataframe tbody tr th:only-of-type {\n",
       "        vertical-align: middle;\n",
       "    }\n",
       "\n",
       "    .dataframe tbody tr th {\n",
       "        vertical-align: top;\n",
       "    }\n",
       "\n",
       "    .dataframe thead th {\n",
       "        text-align: right;\n",
       "    }\n",
       "</style>\n",
       "<table border=\"1\" class=\"dataframe\">\n",
       "  <thead>\n",
       "    <tr style=\"text-align: right;\">\n",
       "      <th></th>\n",
       "      <th>CreditScore</th>\n",
       "      <th>Age</th>\n",
       "      <th>Tenure</th>\n",
       "      <th>Balance</th>\n",
       "      <th>NumOfProducts</th>\n",
       "      <th>HasCrCard</th>\n",
       "      <th>IsActiveMember</th>\n",
       "      <th>EstimatedSalary</th>\n",
       "      <th>Exited</th>\n",
       "      <th>Geography_Germany</th>\n",
       "      <th>Geography_Spain</th>\n",
       "      <th>Gender_Male</th>\n",
       "    </tr>\n",
       "  </thead>\n",
       "  <tbody>\n",
       "    <tr>\n",
       "      <th>0</th>\n",
       "      <td>619</td>\n",
       "      <td>42</td>\n",
       "      <td>2</td>\n",
       "      <td>0</td>\n",
       "      <td>1</td>\n",
       "      <td>1</td>\n",
       "      <td>1</td>\n",
       "      <td>101348</td>\n",
       "      <td>1</td>\n",
       "      <td>0</td>\n",
       "      <td>0</td>\n",
       "      <td>0</td>\n",
       "    </tr>\n",
       "    <tr>\n",
       "      <th>1</th>\n",
       "      <td>608</td>\n",
       "      <td>41</td>\n",
       "      <td>1</td>\n",
       "      <td>83807</td>\n",
       "      <td>1</td>\n",
       "      <td>0</td>\n",
       "      <td>1</td>\n",
       "      <td>112542</td>\n",
       "      <td>0</td>\n",
       "      <td>0</td>\n",
       "      <td>1</td>\n",
       "      <td>0</td>\n",
       "    </tr>\n",
       "    <tr>\n",
       "      <th>2</th>\n",
       "      <td>502</td>\n",
       "      <td>42</td>\n",
       "      <td>8</td>\n",
       "      <td>159660</td>\n",
       "      <td>3</td>\n",
       "      <td>1</td>\n",
       "      <td>0</td>\n",
       "      <td>113931</td>\n",
       "      <td>1</td>\n",
       "      <td>0</td>\n",
       "      <td>0</td>\n",
       "      <td>0</td>\n",
       "    </tr>\n",
       "    <tr>\n",
       "      <th>3</th>\n",
       "      <td>699</td>\n",
       "      <td>39</td>\n",
       "      <td>1</td>\n",
       "      <td>0</td>\n",
       "      <td>2</td>\n",
       "      <td>0</td>\n",
       "      <td>0</td>\n",
       "      <td>93826</td>\n",
       "      <td>0</td>\n",
       "      <td>0</td>\n",
       "      <td>0</td>\n",
       "      <td>0</td>\n",
       "    </tr>\n",
       "    <tr>\n",
       "      <th>4</th>\n",
       "      <td>850</td>\n",
       "      <td>43</td>\n",
       "      <td>2</td>\n",
       "      <td>125510</td>\n",
       "      <td>1</td>\n",
       "      <td>1</td>\n",
       "      <td>1</td>\n",
       "      <td>79084</td>\n",
       "      <td>0</td>\n",
       "      <td>0</td>\n",
       "      <td>1</td>\n",
       "      <td>0</td>\n",
       "    </tr>\n",
       "  </tbody>\n",
       "</table>\n",
       "</div>"
      ],
      "text/plain": [
       "   CreditScore  Age  Tenure  Balance  NumOfProducts  HasCrCard  \\\n",
       "0          619   42       2        0              1          1   \n",
       "1          608   41       1    83807              1          0   \n",
       "2          502   42       8   159660              3          1   \n",
       "3          699   39       1        0              2          0   \n",
       "4          850   43       2   125510              1          1   \n",
       "\n",
       "   IsActiveMember  EstimatedSalary  Exited  Geography_Germany  \\\n",
       "0               1           101348       1                  0   \n",
       "1               1           112542       0                  0   \n",
       "2               0           113931       1                  0   \n",
       "3               0            93826       0                  0   \n",
       "4               1            79084       0                  0   \n",
       "\n",
       "   Geography_Spain  Gender_Male  \n",
       "0                0            0  \n",
       "1                1            0  \n",
       "2                0            0  \n",
       "3                0            0  \n",
       "4                1            0  "
      ]
     },
     "execution_count": 89,
     "metadata": {},
     "output_type": "execute_result"
    }
   ],
   "source": [
    "df.head()"
   ]
  },
  {
   "cell_type": "markdown",
   "id": "91f2279f-276a-47db-96d0-7735525c25e1",
   "metadata": {},
   "source": [
    "### Train Test Split"
   ]
  },
  {
   "cell_type": "code",
   "execution_count": 91,
   "id": "f70dcced-4205-45ca-a4bf-248b45283d42",
   "metadata": {},
   "outputs": [],
   "source": [
    "X = df.drop('Exited',axis=1)\n",
    "Y = df['Exited']"
   ]
  },
  {
   "cell_type": "code",
   "execution_count": 92,
   "id": "89f45040-3b20-4a8e-a2a4-edf796e583cc",
   "metadata": {},
   "outputs": [],
   "source": [
    "from sklearn.model_selection import train_test_split,RandomizedSearchCV as rsv\n",
    "x_train,x_test,y_train,y_test = train_test_split(X,Y,test_size=0.3,random_state=42)"
   ]
  },
  {
   "cell_type": "markdown",
   "id": "861f3432-d5b4-492e-8141-d200f96700e9",
   "metadata": {},
   "source": [
    "### Transformation of data"
   ]
  },
  {
   "cell_type": "code",
   "execution_count": 94,
   "id": "fc31d391-b45a-4e2b-be84-078ba472a1d4",
   "metadata": {},
   "outputs": [],
   "source": [
    "from sklearn.preprocessing import StandardScaler\n",
    "\n",
    "ss = StandardScaler()\n",
    "\n",
    "x_train = ss.fit_transform(x_train)\n",
    "x_test = ss.transform(x_test)"
   ]
  },
  {
   "cell_type": "markdown",
   "id": "2c951c97-92df-4c2a-b5f2-feb8b5aff0aa",
   "metadata": {},
   "source": [
    "### Distribution of Categories in the Label"
   ]
  },
  {
   "cell_type": "code",
   "execution_count": 96,
   "id": "08399788-a29c-490d-9aa9-68ee2f19c38a",
   "metadata": {},
   "outputs": [],
   "source": [
    "values = df['Exited'].value_counts()"
   ]
  },
  {
   "cell_type": "code",
   "execution_count": 97,
   "id": "16892ace-c816-48f3-b4dd-3511d56796bb",
   "metadata": {},
   "outputs": [
    {
     "data": {
      "image/png": "[encoded data removed]",
      "text/plain": [
       "<Figure size 800x600 with 1 Axes>"
      ]
     },
     "metadata": {},
     "output_type": "display_data"
    }
   ],
   "source": [
    "plt.figure(figsize=(8, 6))\n",
    "values.plot(kind='bar', color='skyblue')\n",
    "plt.title('Value Counts')\n",
    "plt.xlabel('Category')\n",
    "plt.ylabel('Frequency')\n",
    "plt.xticks(rotation=0)\n",
    "plt.show()"
   ]
  },
  {
   "cell_type": "markdown",
   "id": "b186fb8a-9ba6-4782-9631-8d8172056394",
   "metadata": {},
   "source": [
    "### Model Fitting"
   ]
  },
  {
   "cell_type": "markdown",
   "id": "91df74ed-afc4-41fc-be83-b358111d0cfb",
   "metadata": {},
   "source": [
    "## Random Forest Classifier"
   ]
  },
  {
   "cell_type": "code",
   "execution_count": 130,
   "id": "63230e8a-80cf-4726-9152-15be20a7033c",
   "metadata": {},
   "outputs": [
    {
     "name": "stdout",
     "output_type": "stream",
     "text": [
      " The AUC score for train data for RFC : 1.0\n",
      " The AUC score for test data for RFC : 0.8551165035607367\n"
     ]
    }
   ],
   "source": [
    "from sklearn.ensemble import RandomForestClassifier as rf\n",
    "from sklearn.metrics import roc_auc_score\n",
    "\n",
    "rfc = rf(random_state=42)\n",
    "rfc.fit(x_train,y_train)\n",
    "\n",
    "y_train_pred = rfc.predict(x_train)\n",
    "y_train_proba = rfc.predict_proba(x_train)[:,1]\n",
    "\n",
    "y_test_pred = rfc.predict(x_test)\n",
    "y_test_proba = rfc.predict_proba(x_test)[:,1]\n",
    "\n",
    "auc_train_rfc = roc_auc_score(y_train,y_train_proba)\n",
    "auc_test_rfc = roc_auc_score(y_test,y_test_proba)\n",
    "\n",
    "print(f\" The AUC score for train data for RFC : {auc_train_rfc}\")\n",
    "print(f\" The AUC score for test data for RFC : {auc_test_rfc}\")"
   ]
  },
  {
   "cell_type": "markdown",
   "id": "7e332513-f41e-40ed-abd2-ab96361094c5",
   "metadata": {},
   "source": [
    "### Tuning Hyperparameters"
   ]
  },
  {
   "cell_type": "code",
   "execution_count": 135,
   "id": "3234eb3b-bd80-41dc-8003-8e1efd735beb",
   "metadata": {},
   "outputs": [
    {
     "name": "stdout",
     "output_type": "stream",
     "text": [
      "Best Hyperparameters: {'n_estimators': 150, 'min_samples_split': 10, 'min_samples_leaf': 1, 'max_features': 'log2', 'max_depth': 20, 'bootstrap': True}\n",
      "The AUC score for train data for RFC: 0.991023712649621\n",
      "The AUC score for test data for RFC: 0.8638209595845051\n"
     ]
    }
   ],
   "source": [
    "param_dist = {\n",
    "    'n_estimators': np.arange(50, 201, 50),  # Number of trees in the forest\n",
    "    'max_depth': [None, 10, 20, 30],         # Max depth of the tree\n",
    "    'min_samples_split': [2, 5, 10],         # Minimum number of samples required to split a node\n",
    "    'min_samples_leaf': [1, 2, 4],           # Minimum number of samples required at a leaf node\n",
    "    'max_features': ['auto', 'sqrt', 'log2'], # Number of features to consider when looking for the best split\n",
    "    'bootstrap': [True, False],              # Whether bootstrap samples are used when building trees\n",
    "}\n",
    "\n",
    "random_search1 = rsv(estimator=rfc, \n",
    "                    param_distributions=param_dist,\n",
    "                    n_iter=25,                  # Number of random combinations to test (adjusted for 10,000 rows)\n",
    "                    cv=3,                        # 5-fold cross-validation                 \n",
    "                    random_state=42)   \n",
    "\n",
    "\n",
    "random_search1.fit(x_train,y_train)\n",
    "best_rfc = random_search1.best_estimator_\n",
    "\n",
    "y_train_pred = best_rfc.predict(x_train)\n",
    "y_train_proba = best_rfc.predict_proba(x_train)[:, 1]\n",
    "\n",
    "y_test_pred = best_rfc.predict(x_test)\n",
    "y_test_proba = best_rfc.predict_proba(x_test)[:, 1]\n",
    "\n",
    "# Calculate AUC scores\n",
    "auc_train_rfc = roc_auc_score(y_train, y_train_proba)\n",
    "auc_test_rfc = roc_auc_score(y_test, y_test_proba)\n",
    "\n",
    "# Output results\n",
    "print(f\"Best Hyperparameters: {random_search1.best_params_}\")\n",
    "print(f\"The AUC score for train data for RFC: {auc_train_rfc}\")\n",
    "print(f\"The AUC score for test data for RFC: {auc_test_rfc}\")"
   ]
  },
  {
   "cell_type": "markdown",
   "id": "564d8e6b-74f4-4cbc-b7c1-819465d0e84d",
   "metadata": {},
   "source": [
    "## Decision Tree Classifier"
   ]
  },
  {
   "cell_type": "code",
   "execution_count": 139,
   "id": "655fb9fd-db74-4365-a512-c2a1e0be123a",
   "metadata": {},
   "outputs": [
    {
     "name": "stdout",
     "output_type": "stream",
     "text": [
      " The AUC score for train data for DTC : 1.0\n",
      " The AUC score for test data for DTC : 0.6888267712963801\n"
     ]
    }
   ],
   "source": [
    "from sklearn.tree import DecisionTreeClassifier as dt\n",
    "\n",
    "dtc = dt(criterion='gini',random_state=42)\n",
    "dtc.fit(x_train,y_train)\n",
    "\n",
    "y_train_pred = dtc.predict(x_train)\n",
    "y_train_proba = dtc.predict_proba(x_train)[:,1]\n",
    "\n",
    "y_test_pred = dtc.predict(x_test)\n",
    "y_test_proba = dtc.predict_proba(x_test)[:,1]\n",
    "\n",
    "auc_train_dtc = roc_auc_score(y_train,y_train_proba)\n",
    "auc_test_dtc = roc_auc_score(y_test,y_test_proba)\n",
    "\n",
    "print(f\" The AUC score for train data for DTC : {auc_train_dtc}\")\n",
    "print(f\" The AUC score for test data for DTC : {auc_test_dtc}\")"
   ]
  },
  {
   "cell_type": "markdown",
   "id": "6796ba6d-9c38-441a-b90e-f482ada43f2a",
   "metadata": {},
   "source": [
    "### Tuning Hyperparameters"
   ]
  },
  {
   "cell_type": "code",
   "execution_count": 142,
   "id": "146c9b94-05ef-43c1-9f0e-ff20124a7667",
   "metadata": {},
   "outputs": [
    {
     "name": "stdout",
     "output_type": "stream",
     "text": [
      "Best Hyperparameters: {'min_samples_split': 20, 'min_samples_leaf': 3, 'max_depth': 8, 'criterion': 'entropy'}\n",
      "The AUC score for train data for DTC: 0.8995004336961095\n",
      "The AUC score for test data for DTC: 0.8322056013562551\n"
     ]
    }
   ],
   "source": [
    "param_dist = {\n",
    "    \"criterion\": [\"gini\", \"entropy\", \"log_loss\"],\n",
    "    \"max_depth\": list(range(3, 21)),\n",
    "    \"min_samples_split\": range(2, 21),\n",
    "    \"min_samples_leaf\": range(1, 11),\n",
    "}\n",
    "\n",
    "random_search2 = rsv(estimator=dtc, \n",
    "                                   param_distributions=param_dist,\n",
    "                                   n_iter=25,                  # Number of random combinations to test\n",
    "                                   cv=5,                       # 5-fold cross-validation                 \n",
    "                                   random_state=42, \n",
    "                                   )\n",
    "\n",
    "random_search2.fit(x_train, y_train)\n",
    "\n",
    "# Get the best model\n",
    "best_dtc = random_search2.best_estimator_\n",
    "\n",
    "# Predict on train and test data\n",
    "y_train_pred = best_dtc.predict(x_train)\n",
    "y_train_proba = best_dtc.predict_proba(x_train)[:, 1]\n",
    "\n",
    "y_test_pred = best_dtc.predict(x_test)\n",
    "y_test_proba = best_dtc.predict_proba(x_test)[:, 1]\n",
    "\n",
    "# Calculate AUC scores\n",
    "auc_train_dtc = roc_auc_score(y_train, y_train_proba)\n",
    "auc_test_dtc = roc_auc_score(y_test, y_test_proba)\n",
    "\n",
    "# Output results\n",
    "print(f\"Best Hyperparameters: {random_search2.best_params_}\")\n",
    "print(f\"The AUC score for train data for DTC: {auc_train_dtc}\")\n",
    "print(f\"The AUC score for test data for DTC: {auc_test_dtc}\")"
   ]
  },
  {
   "cell_type": "markdown",
   "id": "f6ad4d7d-8c91-48fd-9055-3caaa15933b1",
   "metadata": {},
   "source": [
    "### KNN Classifier"
   ]
  },
  {
   "cell_type": "code",
   "execution_count": 144,
   "id": "1d680378-822d-43dc-84c9-e8a3e895e341",
   "metadata": {},
   "outputs": [
    {
     "name": "stdout",
     "output_type": "stream",
     "text": [
      " The AUC score for train data for KNC : 0.9055439526905846\n",
      " The AUC score for test data for KNC : 0.7760750958223712\n"
     ]
    }
   ],
   "source": [
    "from sklearn.neighbors import KNeighborsClassifier as kn\n",
    "\n",
    "knc = kn(n_neighbors = 7)\n",
    "knc.fit(x_train,y_train)\n",
    "\n",
    "y_train_pred = knc.predict(x_train)\n",
    "y_train_proba = knc.predict_proba(x_train)[:,1]\n",
    "\n",
    "y_test_pred = knc.predict(x_test)\n",
    "y_test_proba = knc.predict_proba(x_test)[:,1]\n",
    "\n",
    "auc_train_knc = roc_auc_score(y_train,y_train_proba)\n",
    "auc_test_knc = roc_auc_score(y_test,y_test_proba)\n",
    "\n",
    "print(f\" The AUC score for train data for KNC : {auc_train_knc}\")\n",
    "print(f\" The AUC score for test data for KNC : {auc_test_knc}\")"
   ]
  },
  {
   "cell_type": "markdown",
   "id": "cad438bd-18a4-4011-b6eb-bcd9bca4e988",
   "metadata": {},
   "source": [
    "### Tuning Hyperparameters"
   ]
  },
  {
   "cell_type": "code",
   "execution_count": 146,
   "id": "6521a744-c4f5-4c2d-8d67-9852b606a674",
   "metadata": {},
   "outputs": [
    {
     "name": "stdout",
     "output_type": "stream",
     "text": [
      "Best Hyperparameters: {'n_neighbors': 13}\n",
      "The AUC score for train data for KNC: 0.879736087449414\n",
      "The AUC score for test data for KNC: 0.8037434511929602\n"
     ]
    }
   ],
   "source": [
    "param_dist = {\n",
    "    'n_neighbors': range(1, 31)                                     \n",
    "}\n",
    "\n",
    "random_search3 = rsv(estimator=knc, \n",
    "                                   param_distributions=param_dist,\n",
    "                                   n_iter=25,                  # Number of random combinations to test\n",
    "                                   cv=5,                       # 5-fold cross-validation\n",
    "                                   random_state=42, \n",
    "                                   )  \n",
    "\n",
    "# Fit RandomizedSearchCV\n",
    "random_search3.fit(x_train, y_train)\n",
    "\n",
    "# Get the best model\n",
    "best_knc = random_search3.best_estimator_\n",
    "\n",
    "# Predict on train and test data\n",
    "y_train_pred = best_knc.predict(x_train)\n",
    "y_train_proba = best_knc.predict_proba(x_train)[:, 1]\n",
    "\n",
    "y_test_pred = best_knc.predict(x_test)\n",
    "y_test_proba = best_knc.predict_proba(x_test)[:, 1]\n",
    "\n",
    "# Calculate AUC scores\n",
    "auc_train_knc = roc_auc_score(y_train, y_train_proba)\n",
    "auc_test_knc = roc_auc_score(y_test, y_test_proba)\n",
    "\n",
    "# Output results\n",
    "print(f\"Best Hyperparameters: {random_search3.best_params_}\")\n",
    "print(f\"The AUC score for train data for KNC: {auc_train_knc}\")\n",
    "print(f\"The AUC score for test data for KNC: {auc_test_knc}\")"
   ]
  },
  {
   "cell_type": "markdown",
   "id": "4741e4e4-07d0-4bca-8f35-cbcf6a18de72",
   "metadata": {},
   "source": [
    "## Logistic Regression"
   ]
  },
  {
   "cell_type": "code",
   "execution_count": 149,
   "id": "aef08cc4-bb5a-4f96-b777-c300b0078966",
   "metadata": {},
   "outputs": [
    {
     "name": "stdout",
     "output_type": "stream",
     "text": [
      " The AUC score for train data for LR : 0.7651070604684415\n",
      " The AUC score for test data for LR : 0.773399227751066\n"
     ]
    }
   ],
   "source": [
    "from sklearn.linear_model import LogisticRegression as lr\n",
    "\n",
    "lrr = lr(max_iter=300,    # Increased iterations\n",
    "    random_state=42,\n",
    "        solver='liblinear')    # Use liblinear solver for optimization\n",
    "lrr.fit(x_train,y_train)\n",
    "\n",
    "y_train_pred = lrr.predict(x_train)\n",
    "y_train_proba = lrr.predict_proba(x_train)[:,1]\n",
    "\n",
    "y_test_pred = lrr.predict(x_test)\n",
    "y_test_proba = lrr.predict_proba(x_test)[:,1]\n",
    "\n",
    "auc_train_lrr = roc_auc_score(y_train,y_train_proba)\n",
    "auc_test_lrr = roc_auc_score(y_test,y_test_proba)\n",
    "\n",
    "print(f\" The AUC score for train data for LR : {auc_train_lrr}\")\n",
    "print(f\" The AUC score for test data for LR : {auc_test_lrr}\")"
   ]
  },
  {
   "cell_type": "markdown",
   "id": "a6433dea-0123-41a9-9b56-bbd64a3745f8",
   "metadata": {},
   "source": [
    "### Tuning Hyperparameters"
   ]
  },
  {
   "cell_type": "code",
   "execution_count": 152,
   "id": "4c1f2e73-3fae-4800-9d6a-7ece7beaf050",
   "metadata": {},
   "outputs": [
    {
     "name": "stdout",
     "output_type": "stream",
     "text": [
      "Best Hyperparameters: {'solver': 'liblinear', 'penalty': 'l2', 'max_iter': 100}\n",
      "The AUC score for train data for Logistic Regression: 0.7651070604684415\n",
      "The AUC score for test data for Logistic Regression: 0.773399227751066\n"
     ]
    }
   ],
   "source": [
    "param_dist = {\n",
    "    'penalty': ['l1', 'l2'],            # Regularization type\n",
    "    'solver': ['liblinear'],           # Solver compatible with 'l1' and 'l2'\n",
    "    'max_iter': [100, 200, 300, 500],  # Maximum iterations\n",
    "}\n",
    "\n",
    "# Create Logistic Regression model\n",
    "lrr = lr(random_state=42)\n",
    "\n",
    "# RandomizedSearchCV for hyperparameter tuning\n",
    "random_search4 = rsv(estimator=lrr, \n",
    "                                   param_distributions=param_dist,\n",
    "                                   n_iter=50,                  # Number of random combinations to test\n",
    "                                   cv=5,                       # 5-fold cross-validation\n",
    "                                   random_state=42, \n",
    "                                   )                  \n",
    "# Fit RandomizedSearchCV\n",
    "random_search4.fit(x_train, y_train)\n",
    "\n",
    "# Get the best model\n",
    "best_lrr = random_search4.best_estimator_\n",
    "\n",
    "# Predict on train and test data\n",
    "y_train_pred = best_lrr.predict(x_train)\n",
    "y_train_proba = best_lrr.predict_proba(x_train)[:, 1]\n",
    "\n",
    "y_test_pred = best_lrr.predict(x_test)\n",
    "y_test_proba = best_lrr.predict_proba(x_test)[:, 1]\n",
    "\n",
    "# Calculate AUC scores\n",
    "auc_train_lrr = roc_auc_score(y_train, y_train_proba)\n",
    "auc_test_lrr = roc_auc_score(y_test, y_test_proba)\n",
    "\n",
    "# Output results\n",
    "print(f\"Best Hyperparameters: {random_search4.best_params_}\")\n",
    "print(f\"The AUC score for train data for Logistic Regression: {auc_train_lrr}\")\n",
    "print(f\"The AUC score for test data for Logistic Regression: {auc_test_lrr}\")"
   ]
  },
  {
   "cell_type": "markdown",
   "id": "511b3d36-6f94-4136-9c4b-7590ce18daa5",
   "metadata": {},
   "source": [
    "## Ada Boost Classifier"
   ]
  },
  {
   "cell_type": "code",
   "execution_count": 155,
   "id": "6a2e214a-41e7-4269-8705-5724bd6f0ea0",
   "metadata": {},
   "outputs": [
    {
     "name": "stdout",
     "output_type": "stream",
     "text": [
      " The AUC score for train data for ADC : 0.8598075309893272\n",
      " The AUC score for test data for ADC : 0.8476856629320512\n"
     ]
    }
   ],
   "source": [
    "from sklearn.ensemble import AdaBoostClassifier as ad\n",
    "from sklearn.tree import DecisionTreeClassifier\n",
    "\n",
    "base_classifier = DecisionTreeClassifier(max_depth=1)\n",
    "\n",
    "## Now by default adaboost is using RandomForest with max_depth=1\n",
    "''' adc = ad(\n",
    "    base_estimator=base_classifier,  # Using decision tree as base estimator\n",
    "    n_estimators=50,                 # Number of boosting rounds\n",
    "    random_state=42) ''' \n",
    "                                    \n",
    "\n",
    "adc = ad(n_estimators=50,                 # Number of boosting rounds\n",
    "    random_state=42)\n",
    "adc.fit(x_train,y_train)\n",
    "\n",
    "y_train_pred = adc.predict(x_train)\n",
    "y_train_proba = adc.predict_proba(x_train)[:,1]\n",
    "\n",
    "y_test_pred = adc.predict(x_test)\n",
    "y_test_proba = adc.predict_proba(x_test)[:,1]\n",
    "\n",
    "auc_train_adc = roc_auc_score(y_train,y_train_proba)\n",
    "auc_test_adc = roc_auc_score(y_test,y_test_proba)\n",
    "\n",
    "print(f\" The AUC score for train data for ADC : {auc_train_adc}\")\n",
    "print(f\" The AUC score for test data for ADC : {auc_test_adc}\")"
   ]
  },
  {
   "cell_type": "markdown",
   "id": "83112ec2-dc4b-41b3-8991-9c4bf496b70f",
   "metadata": {},
   "source": [
    "### Tuning Hyperparameters"
   ]
  },
  {
   "cell_type": "code",
   "execution_count": 158,
   "id": "b9a7fdcd-c102-4745-8f9c-5502ae74ce6b",
   "metadata": {},
   "outputs": [
    {
     "name": "stdout",
     "output_type": "stream",
     "text": [
      "Best Hyperparameters: {'n_estimators': 150, 'learning_rate': 0.1}\n",
      "The AUC score for train data for ADC: 0.8539211500645613\n",
      "The AUC score for test data for ADC: 0.8531174872992833\n"
     ]
    }
   ],
   "source": [
    "param_dist = {\n",
    "    'n_estimators': np.arange(50, 201, 50),   # Number of boosting rounds (trees)\n",
    "    'learning_rate': [0.01, 0.1, 0.5, 1, 2],  # How much to weigh each classifier\n",
    "}\n",
    "\n",
    "random_search5 = rsv(estimator=adc,\n",
    "                                   param_distributions=param_dist,\n",
    "                                   n_iter=50,             # Number of random combinations to test\n",
    "                                   cv=5,                  # 5-fold cross-validation\n",
    "                                   random_state=42)\n",
    "                                   \n",
    "# Fit the RandomizedSearchCV model\n",
    "random_search5.fit(x_train, y_train)\n",
    "\n",
    "# Get the best AdaBoost model\n",
    "best_adc = random_search5.best_estimator_\n",
    "\n",
    "# Predict on train and test data\n",
    "y_train_pred = best_adc.predict(x_train)\n",
    "y_train_proba = best_adc.predict_proba(x_train)[:, 1]\n",
    "\n",
    "y_test_pred = best_adc.predict(x_test)\n",
    "y_test_proba = best_adc.predict_proba(x_test)[:, 1]\n",
    "\n",
    "# Calculate AUC scores\n",
    "auc_train_adc = roc_auc_score(y_train, y_train_proba)\n",
    "auc_test_adc = roc_auc_score(y_test, y_test_proba)\n",
    "\n",
    "# Output results\n",
    "print(f\"Best Hyperparameters: {random_search5.best_params_}\")\n",
    "print(f\"The AUC score for train data for ADC: {auc_train_adc}\")\n",
    "print(f\"The AUC score for test data for ADC: {auc_test_adc}\")"
   ]
  },
  {
   "cell_type": "code",
   "execution_count": 246,
   "id": "2593a457-0834-4681-ac04-39c1ca728501",
   "metadata": {},
   "outputs": [],
   "source": [
    "data = {\n",
    "    'models' : ['RandomForestClassifier','DecisionTreeClassifier','KNeighborsClassifer','LogisticRegression','AdaBoostClassifier'],\n",
    "    'Test_Auc_Before_Tuning' : [0.854653692846775,0.6901251927787353,0.5311160471287308,0.6715893756236959,0.8476856629320512],\n",
    "    'Test_AUC_After_Tuning' : [0.863581403655992,0.8319472636759502,0.5486131979724213,0.7730299714233875,0.8531174872992833] \n",
    "}\n",
    "\n",
    "data1 = pd.DataFrame(data)"
   ]
  },
  {
   "cell_type": "code",
   "execution_count": 248,
   "id": "1b388c1a-c868-4322-8ad7-c23e6b8c111d",
   "metadata": {},
   "outputs": [
    {
     "data": {
      "text/html": [
       "<div>\n",
       "<style scoped>\n",
       "    .dataframe tbody tr th:only-of-type {\n",
       "        vertical-align: middle;\n",
       "    }\n",
       "\n",
       "    .dataframe tbody tr th {\n",
       "        vertical-align: top;\n",
       "    }\n",
       "\n",
       "    .dataframe thead th {\n",
       "        text-align: right;\n",
       "    }\n",
       "</style>\n",
       "<table border=\"1\" class=\"dataframe\">\n",
       "  <thead>\n",
       "    <tr style=\"text-align: right;\">\n",
       "      <th></th>\n",
       "      <th>models</th>\n",
       "      <th>Test_Auc_Before_Tuning</th>\n",
       "      <th>Test_AUC_After_Tuning</th>\n",
       "    </tr>\n",
       "  </thead>\n",
       "  <tbody>\n",
       "    <tr>\n",
       "      <th>0</th>\n",
       "      <td>RandomForestClassifier</td>\n",
       "      <td>0.854654</td>\n",
       "      <td>0.863581</td>\n",
       "    </tr>\n",
       "    <tr>\n",
       "      <th>1</th>\n",
       "      <td>DecisionTreeClassifier</td>\n",
       "      <td>0.690125</td>\n",
       "      <td>0.831947</td>\n",
       "    </tr>\n",
       "    <tr>\n",
       "      <th>2</th>\n",
       "      <td>KNeighborsClassifer</td>\n",
       "      <td>0.531116</td>\n",
       "      <td>0.548613</td>\n",
       "    </tr>\n",
       "    <tr>\n",
       "      <th>3</th>\n",
       "      <td>LogisticRegression</td>\n",
       "      <td>0.671589</td>\n",
       "      <td>0.773030</td>\n",
       "    </tr>\n",
       "    <tr>\n",
       "      <th>4</th>\n",
       "      <td>AdaBoostClassifier</td>\n",
       "      <td>0.847686</td>\n",
       "      <td>0.853117</td>\n",
       "    </tr>\n",
       "  </tbody>\n",
       "</table>\n",
       "</div>"
      ],
      "text/plain": [
       "                   models  Test_Auc_Before_Tuning  Test_AUC_After_Tuning\n",
       "0  RandomForestClassifier                0.854654               0.863581\n",
       "1  DecisionTreeClassifier                0.690125               0.831947\n",
       "2     KNeighborsClassifer                0.531116               0.548613\n",
       "3      LogisticRegression                0.671589               0.773030\n",
       "4      AdaBoostClassifier                0.847686               0.853117"
      ]
     },
     "execution_count": 248,
     "metadata": {},
     "output_type": "execute_result"
    }
   ],
   "source": [
    "data1"
   ]
  },
  {
   "cell_type": "markdown",
   "id": "a08e2832-1c78-4b46-b821-7879b87551cc",
   "metadata": {},
   "source": [
    "# Final Thoughts:"
   ]
  },
  {
   "cell_type": "markdown",
   "id": "27d0e688-9f5c-4300-9910-de5edefa5a12",
   "metadata": {},
   "source": [
    "## --> Best Performing Models: \n",
    "The RandomForestClassifier and AdaBoostClassifier were the best performers, demonstrating high AUC values and reliable predictions. These models are suitable for customer churn prediction due to their ability to capture complex patterns in the data.\n",
    "\n",
    "## --> Model Selection:\n",
    "The RandomForestClassifier is the top choice for this task, followed by AdaBoostClassifier. Logistic Regression is a good option when interpretability and simplicity are desired, though it may not be as powerful as the ensemble models.\n",
    "\n",
    "## --> Challenges:\n",
    "The Decision Tree and KNN models showed relatively weaker performance, indicating that they may not be the most suitable for this problem without further improvements."
   ]
  },
  {
   "cell_type": "markdown",
   "id": "87cf00e8-f836-4de5-b65d-60e707c08125",
   "metadata": {},
   "source": [
    "## Finding Feature Selection"
   ]
  },
  {
   "cell_type": "code",
   "execution_count": 126,
   "id": "db402582-e0f6-49a1-8edf-d52c5796641a",
   "metadata": {},
   "outputs": [
    {
     "name": "stdout",
     "output_type": "stream",
     "text": [
      "              Feature  Importance\n",
      "1                 Age    0.235233\n",
      "0         CreditScore    0.145436\n",
      "7     EstimatedSalary    0.144725\n",
      "3             Balance    0.142299\n",
      "4       NumOfProducts    0.132229\n",
      "2              Tenure    0.080273\n",
      "6      IsActiveMember    0.042275\n",
      "8   Geography_Germany    0.027242\n",
      "10        Gender_Male    0.018198\n",
      "5           HasCrCard    0.018094\n",
      "9     Geography_Spain    0.013996\n"
     ]
    }
   ],
   "source": [
    "from sklearn.ensemble import RandomForestClassifier\n",
    "import pandas as pd\n",
    "\n",
    "# Train a Random Forest\n",
    "X = df.drop(columns=['Exited'])\n",
    "y = df['Exited']\n",
    "model = RandomForestClassifier()\n",
    "model.fit(X, Y)\n",
    "\n",
    "# Extract feature importance\n",
    "feature_importance = pd.DataFrame({\n",
    "    'Feature': X.columns,\n",
    "    'Importance': model.feature_importances_\n",
    "}).sort_values(by='Importance', ascending=False)\n",
    "\n",
    "print(feature_importance)"
   ]
  },
  {
   "cell_type": "raw",
   "id": "c52aa207-2e7d-4e38-b2f5-ebb359a1e31c",
   "metadata": {},
   "source": [
    "Features like Age, EstimatedSalary, and Balance are highly influential because they directly correlate with customer behavior, financial stability, and engagement levels.\n",
    "\n",
    "Features like HasCrCard and Gender have lower importance because they do not significantly differentiate between churners and non-churners in this dataset.\n",
    "\n",
    "We will select top 8 features for our best random forest model"
   ]
  },
  {
   "cell_type": "code",
   "execution_count": 128,
   "id": "3d293a08-5da5-457c-b2ac-cce094483acb",
   "metadata": {},
   "outputs": [
    {
     "data": {
      "text/html": [
       "<div>\n",
       "<style scoped>\n",
       "    .dataframe tbody tr th:only-of-type {\n",
       "        vertical-align: middle;\n",
       "    }\n",
       "\n",
       "    .dataframe tbody tr th {\n",
       "        vertical-align: top;\n",
       "    }\n",
       "\n",
       "    .dataframe thead th {\n",
       "        text-align: right;\n",
       "    }\n",
       "</style>\n",
       "<table border=\"1\" class=\"dataframe\">\n",
       "  <thead>\n",
       "    <tr style=\"text-align: right;\">\n",
       "      <th></th>\n",
       "      <th>CreditScore</th>\n",
       "      <th>Age</th>\n",
       "      <th>Tenure</th>\n",
       "      <th>Balance</th>\n",
       "      <th>NumOfProducts</th>\n",
       "      <th>HasCrCard</th>\n",
       "      <th>IsActiveMember</th>\n",
       "      <th>EstimatedSalary</th>\n",
       "      <th>Exited</th>\n",
       "      <th>Geography_Germany</th>\n",
       "      <th>Geography_Spain</th>\n",
       "      <th>Gender_Male</th>\n",
       "    </tr>\n",
       "  </thead>\n",
       "  <tbody>\n",
       "    <tr>\n",
       "      <th>0</th>\n",
       "      <td>619</td>\n",
       "      <td>42</td>\n",
       "      <td>2</td>\n",
       "      <td>0</td>\n",
       "      <td>1</td>\n",
       "      <td>1</td>\n",
       "      <td>1</td>\n",
       "      <td>101348</td>\n",
       "      <td>1</td>\n",
       "      <td>0</td>\n",
       "      <td>0</td>\n",
       "      <td>0</td>\n",
       "    </tr>\n",
       "    <tr>\n",
       "      <th>1</th>\n",
       "      <td>608</td>\n",
       "      <td>41</td>\n",
       "      <td>1</td>\n",
       "      <td>83807</td>\n",
       "      <td>1</td>\n",
       "      <td>0</td>\n",
       "      <td>1</td>\n",
       "      <td>112542</td>\n",
       "      <td>0</td>\n",
       "      <td>0</td>\n",
       "      <td>1</td>\n",
       "      <td>0</td>\n",
       "    </tr>\n",
       "    <tr>\n",
       "      <th>2</th>\n",
       "      <td>502</td>\n",
       "      <td>42</td>\n",
       "      <td>8</td>\n",
       "      <td>159660</td>\n",
       "      <td>3</td>\n",
       "      <td>1</td>\n",
       "      <td>0</td>\n",
       "      <td>113931</td>\n",
       "      <td>1</td>\n",
       "      <td>0</td>\n",
       "      <td>0</td>\n",
       "      <td>0</td>\n",
       "    </tr>\n",
       "    <tr>\n",
       "      <th>3</th>\n",
       "      <td>699</td>\n",
       "      <td>39</td>\n",
       "      <td>1</td>\n",
       "      <td>0</td>\n",
       "      <td>2</td>\n",
       "      <td>0</td>\n",
       "      <td>0</td>\n",
       "      <td>93826</td>\n",
       "      <td>0</td>\n",
       "      <td>0</td>\n",
       "      <td>0</td>\n",
       "      <td>0</td>\n",
       "    </tr>\n",
       "    <tr>\n",
       "      <th>4</th>\n",
       "      <td>850</td>\n",
       "      <td>43</td>\n",
       "      <td>2</td>\n",
       "      <td>125510</td>\n",
       "      <td>1</td>\n",
       "      <td>1</td>\n",
       "      <td>1</td>\n",
       "      <td>79084</td>\n",
       "      <td>0</td>\n",
       "      <td>0</td>\n",
       "      <td>1</td>\n",
       "      <td>0</td>\n",
       "    </tr>\n",
       "  </tbody>\n",
       "</table>\n",
       "</div>"
      ],
      "text/plain": [
       "   CreditScore  Age  Tenure  Balance  NumOfProducts  HasCrCard  \\\n",
       "0          619   42       2        0              1          1   \n",
       "1          608   41       1    83807              1          0   \n",
       "2          502   42       8   159660              3          1   \n",
       "3          699   39       1        0              2          0   \n",
       "4          850   43       2   125510              1          1   \n",
       "\n",
       "   IsActiveMember  EstimatedSalary  Exited  Geography_Germany  \\\n",
       "0               1           101348       1                  0   \n",
       "1               1           112542       0                  0   \n",
       "2               0           113931       1                  0   \n",
       "3               0            93826       0                  0   \n",
       "4               1            79084       0                  0   \n",
       "\n",
       "   Geography_Spain  Gender_Male  \n",
       "0                0            0  \n",
       "1                1            0  \n",
       "2                0            0  \n",
       "3                0            0  \n",
       "4                1            0  "
      ]
     },
     "execution_count": 128,
     "metadata": {},
     "output_type": "execute_result"
    }
   ],
   "source": [
    "df.head()"
   ]
  },
  {
   "cell_type": "code",
   "execution_count": 184,
   "id": "3417e11f-79f4-43ab-9726-86468f6eb139",
   "metadata": {},
   "outputs": [],
   "source": [
    "x = df.iloc[:,[0,1,2,3,4,6,7,8]]\n",
    "y = df['Exited']"
   ]
  },
  {
   "cell_type": "code",
   "execution_count": 186,
   "id": "0ba5a211-3d7f-4005-bf2c-1fe4b843351d",
   "metadata": {},
   "outputs": [],
   "source": [
    "x_train,x_test,y_train,y_test = train_test_split(x,y,test_size=0.2,random_state=42)"
   ]
  },
  {
   "cell_type": "code",
   "execution_count": 188,
   "id": "460e5210-f5e1-433b-8b36-e14f609de7e9",
   "metadata": {},
   "outputs": [],
   "source": [
    "from sklearn.ensemble import RandomForestClassifier as rf\n",
    "from sklearn.model_selection import RandomizedSearchCV as rsv\n",
    "rfc = rf() \n",
    "param_dist = {\n",
    "    'n_estimators': np.arange(50, 201, 50),  # Number of trees in the forest\n",
    "    'max_depth': [None, 10, 20, 30],         # Max depth of the tree\n",
    "    'min_samples_split': [2, 5, 10],         # Minimum number of samples required to split a node\n",
    "    'min_samples_leaf': [1, 2, 4],           # Minimum number of samples required at a leaf node\n",
    "    'max_features': ['auto', 'sqrt', 'log2'], # Number of features to consider when looking for the best split\n",
    "    'bootstrap': [True, False],              # Whether bootstrap samples are used when building trees\n",
    "}\n",
    "\n",
    "random_search1 = rsv(estimator=rfc, \n",
    "                    param_distributions=param_dist,\n",
    "                    n_iter=25,                  # Number of random combinations to test (adjusted for 10,000 rows)\n",
    "                    cv=3,                        # 5-fold cross-validation                 \n",
    "                    random_state=42)   \n",
    "\n",
    "\n",
    "random_search1.fit(x_train,y_train)\n",
    "best_rfc = random_search1.best_estimator_"
   ]
  },
  {
   "cell_type": "code",
   "execution_count": 189,
   "id": "2e51390c-c856-4cc6-9ad3-e1b2dbc4816d",
   "metadata": {},
   "outputs": [
    {
     "name": "stdout",
     "output_type": "stream",
     "text": [
      "Best Hyperparameters: {'n_estimators': 150, 'min_samples_split': 5, 'min_samples_leaf': 2, 'max_features': 'log2', 'max_depth': 10, 'bootstrap': True}\n",
      "The AUC score for train data for ADC: 1.0\n",
      "The AUC score for test data for ADC: 0.9999999999999999\n"
     ]
    }
   ],
   "source": [
    "x_train_pred = best_rfc.predict(x_train)\n",
    "x_train_proba = best_rfc.predict_proba(x_train)[:,1]\n",
    "\n",
    "x_test_pred = best_rfc.predict(x_test)\n",
    "x_test_proba = best_rfc.predict_proba(x_test)[:,1]\n",
    "\n",
    "auc_train_rfc = roc_auc_score(y_train,x_train_proba)\n",
    "auc_test_rfc = roc_auc_score(y_test,x_test_proba)\n",
    "\n",
    "print(f\"Best Hyperparameters: {random_search1.best_params_}\")\n",
    "print(f\"The AUC score for train data for ADC: {auc_train_rfc}\")\n",
    "print(f\"The AUC score for test data for ADC: {auc_test_rfc}\")"
   ]
  },
  {
   "cell_type": "raw",
   "id": "980b35e1-99ec-4ada-b8c5-beb4e289fc8a",
   "metadata": {},
   "source": [
    " I used 8 features among 14 features\n",
    "AUC score of both Train and Test Increased."
   ]
  },
  {
   "cell_type": "markdown",
   "id": "e2b5809b-6b7f-44a0-b85a-eba45cead130",
   "metadata": {},
   "source": [
    "## Conclusions:\n",
    "### Feature Importance:\n",
    "The selected features are critical in determining customer churn (the Exited column). This supports the idea that dimensionality reduction can lead to better generalization by removing irrelevant or redundant features.\n",
    "\n",
    "### Model Simplicity:\n",
    "Using fewer features reduces computational cost and simplifies model interpretability without compromising performance, a win-win scenario for deployment and real-world application.\n",
    "\n",
    "### Overfitting Check:\n",
    "The train and test AUC scores are nearly identical, suggesting the model is not overfitting, despite its excellent performance."
   ]
  },
  {
   "cell_type": "code",
   "execution_count": null,
   "id": "cc514862-5462-4457-8deb-a2c83058e225",
   "metadata": {},
   "outputs": [],
   "source": []
  }
 ],
 "metadata": {
  "kernelspec": {
   "display_name": "Python 3 (ipykernel)",
   "language": "python",
   "name": "python3"
  },
  "language_info": {
   "codemirror_mode": {
    "name": "ipython",
    "version": 3
   },
   "file_extension": ".py",
   "mimetype": "text/x-python",
   "name": "python",
   "nbconvert_exporter": "python",
   "pygments_lexer": "ipython3",
   "version": "3.12.4"
  }
 },
 "nbformat": 4,
 "nbformat_minor": 5
}
